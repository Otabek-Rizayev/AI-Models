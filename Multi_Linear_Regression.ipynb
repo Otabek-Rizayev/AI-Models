{
  "nbformat": 4,
  "nbformat_minor": 0,
  "metadata": {
    "colab": {
      "private_outputs": true,
      "provenance": [],
      "authorship_tag": "ABX9TyPOBmbuZC/q0bEBqne6Skdg",
      "include_colab_link": true
    },
    "kernelspec": {
      "name": "python3",
      "display_name": "Python 3"
    },
    "language_info": {
      "name": "python"
    }
  },
  "cells": [
    {
      "cell_type": "markdown",
      "metadata": {
        "id": "view-in-github",
        "colab_type": "text"
      },
      "source": [
        "<a href=\"https://colab.research.google.com/github/Otabek-Rizayev/AI-Models/blob/main/Multi_Linear_Regression.ipynb\" target=\"_parent\"><img src=\"https://colab.research.google.com/assets/colab-badge.svg\" alt=\"Open In Colab\"/></a>"
      ]
    },
    {
      "cell_type": "code",
      "execution_count": null,
      "metadata": {
        "id": "m-9YDvKwZvbY"
      },
      "outputs": [],
      "source": [
        "import pandas as pd\n",
        "import numpy as np\n",
        "df = pd.read_csv('https://raw.githubusercontent.com/anvarnarz/praktikum_datasets/main/housing_LR.csv', index_col=0)\n",
        "df.head(10)"
      ]
    },
    {
      "cell_type": "code",
      "source": [
        "housing = df[df.district=='Чиланзарский']\n",
        "housing.head()"
      ],
      "metadata": {
        "id": "FyMw8dWObtwd"
      },
      "execution_count": null,
      "outputs": []
    },
    {
      "cell_type": "code",
      "source": [
        "from sklearn.model_selection import train_test_split\n",
        "train_set, test_set = train_test_split(housing, test_size=0.10, random_state=42)"
      ],
      "metadata": {
        "id": "dApNAtDUbuGJ"
      },
      "execution_count": null,
      "outputs": []
    },
    {
      "cell_type": "code",
      "source": [
        "from sklearn import linear_model\n",
        "model = linear_model.LinearRegression()\n",
        "x_train = np.asanyarray(train_set[['rooms', 'size', 'level', 'max_levels']])\n",
        "y_train = np.asanyarray(train_set[['price']])\n",
        "model.fit(x_train, y_train)\n",
        "print(\"Coefficients\", model.coef_)\n",
        "print(\"theta0\", model.intercept_)"
      ],
      "metadata": {
        "id": "k2BhbNyubuOP"
      },
      "execution_count": null,
      "outputs": []
    },
    {
      "cell_type": "code",
      "source": [
        "import matplotlib.pyplot as plt\n",
        "import seaborn as sns\n",
        "%matplotlib inline\n",
        "sns.pairplot(df[['rooms', 'size', 'level', 'max_levels', 'price']])\n",
        "plt.show()"
      ],
      "metadata": {
        "id": "IMp49FMbbuT-"
      },
      "execution_count": null,
      "outputs": []
    },
    {
      "cell_type": "code",
      "source": [
        "x_test = np.asanyarray(test_set[['rooms', 'size', 'level', 'max_levels']])\n",
        "y_test = np.asanyarray(test_set[['price']])\n",
        "y_predict = model.predict(x_test)\n",
        "print(y_predict)"
      ],
      "metadata": {
        "id": "-5_JCrA3buW6"
      },
      "execution_count": null,
      "outputs": []
    },
    {
      "cell_type": "code",
      "source": [
        "from sklearn.metrics import mean_squared_error, mean_absolute_error\n",
        "rmse = np.sqrt(mean_squared_error(y_test, y_predict))\n",
        "mae = mean_absolute_error(y_test, y_predict)\n",
        "print(\"rmse:\", rmse)\n",
        "print(\"mae:\", mae)"
      ],
      "metadata": {
        "id": "zWpmd3CMPbar"
      },
      "execution_count": null,
      "outputs": []
    }
  ]
}