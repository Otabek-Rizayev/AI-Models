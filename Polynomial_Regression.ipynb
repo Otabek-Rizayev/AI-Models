{
  "nbformat": 4,
  "nbformat_minor": 0,
  "metadata": {
    "colab": {
      "private_outputs": true,
      "provenance": [],
      "authorship_tag": "ABX9TyNckMXkyzRybHo1DIfiQ9kY",
      "include_colab_link": true
    },
    "kernelspec": {
      "name": "python3",
      "display_name": "Python 3"
    },
    "language_info": {
      "name": "python"
    }
  },
  "cells": [
    {
      "cell_type": "markdown",
      "metadata": {
        "id": "view-in-github",
        "colab_type": "text"
      },
      "source": [
        "<a href=\"https://colab.research.google.com/github/Otabek-Rizayev/AI-Models/blob/main/Polynomial_Regression.ipynb\" target=\"_parent\"><img src=\"https://colab.research.google.com/assets/colab-badge.svg\" alt=\"Open In Colab\"/></a>"
      ]
    },
    {
      "cell_type": "code",
      "execution_count": null,
      "metadata": {
        "id": "bPeYDTGcrIT8"
      },
      "outputs": [],
      "source": [
        "plt.figure(figsize=(8,5))\n",
        "x_data, y_data = (df[\"Year\"].values, df[\"Value\"].values)\n",
        "plt.plot(x_data, y_data, 'ro')\n",
        "plt.ylabel('GDP')\n",
        "plt.xlabel('Year')\n",
        "plt.show()"
      ]
    },
    {
      "cell_type": "code",
      "source": [
        "X = np.asanyarray(df[['Year']]/df.Year.max())\n",
        "y = np.asanyarray(df[['Value']]/df.Value.max())"
      ],
      "metadata": {
        "id": "4mBL8BvQsGLB"
      },
      "execution_count": null,
      "outputs": []
    },
    {
      "cell_type": "code",
      "source": [
        "from sklearn.linear_model import LinearRegression\n",
        "model = LinearRegression()\n",
        "model.fit(X, y)\n",
        "yhat = model.predict(X)"
      ],
      "metadata": {
        "id": "oCZnAC29sIZK"
      },
      "execution_count": null,
      "outputs": []
    },
    {
      "cell_type": "code",
      "source": [
        "plt.figure(figsize=(10,6))\n",
        "plt.plot(X, y, 'ro', label='data')\n",
        "plt.plot(X,yhat, linewidth=3.0, label='fit')\n",
        "plt.show()"
      ],
      "metadata": {
        "id": "vH_C_GsxsIx3"
      },
      "execution_count": null,
      "outputs": []
    },
    {
      "cell_type": "code",
      "source": [
        "from sklearn.metrics import mean_absolute_error\n",
        "print(\"mae:\", mean_absolute_error(yhat, y))"
      ],
      "metadata": {
        "id": "lrAl_kTdsG_y"
      },
      "execution_count": null,
      "outputs": []
    },
    {
      "cell_type": "code",
      "source": [
        "X[0]"
      ],
      "metadata": {
        "id": "ZkKklsiivL1c"
      },
      "execution_count": null,
      "outputs": []
    },
    {
      "cell_type": "code",
      "source": [
        "from sklearn.preprocessing import PolynomialFeatures\n",
        "\n",
        "poly = PolynomialFeatures(degree=5, include_bias=False)\n",
        "X_poly = poly.fit_transform(X)"
      ],
      "metadata": {
        "id": "JWQQZ5yVsHVH"
      },
      "execution_count": null,
      "outputs": []
    },
    {
      "cell_type": "code",
      "source": [
        "model.fit(X_poly, y)"
      ],
      "metadata": {
        "id": "i0vR98l2sHtK"
      },
      "execution_count": null,
      "outputs": []
    },
    {
      "cell_type": "code",
      "source": [
        "yhat = model.predict(X_poly)"
      ],
      "metadata": {
        "id": "isLGp4XDsFj8"
      },
      "execution_count": null,
      "outputs": []
    },
    {
      "cell_type": "code",
      "source": [
        "plt.figure(figsize=(10,6))\n",
        "plt.plot(X, y, 'ro', label='data')\n",
        "plt.plot(X,yhat, linewidth=4.0, label='fit')\n",
        "plt.show()"
      ],
      "metadata": {
        "id": "7vhBl_UWsGFq"
      },
      "execution_count": null,
      "outputs": []
    },
    {
      "cell_type": "code",
      "source": [
        "print(\"MAE:\", mean_absolute_error(yhat,y))"
      ],
      "metadata": {
        "id": "dwNLF_G1sDpc"
      },
      "execution_count": null,
      "outputs": []
    },
    {
      "cell_type": "code",
      "source": [
        "# Logistic Regression\n",
        "\n",
        "x_data, y_data = (df[\"Year\"].values, df[\"Value\"].values)\n",
        "xdata =x_data/max(x_data)\n",
        "ydata =y_data/max(y_data)"
      ],
      "metadata": {
        "id": "dyGGtgLpsEGX"
      },
      "execution_count": null,
      "outputs": []
    },
    {
      "cell_type": "code",
      "source": [
        "def sigmoid(x, Beta_1, Beta_2):\n",
        "     y = 1 / (1 + np.exp(-Beta_1*(x-Beta_2)))\n",
        "     return y"
      ],
      "metadata": {
        "id": "EguIQupIsEsa"
      },
      "execution_count": null,
      "outputs": []
    },
    {
      "cell_type": "code",
      "source": [
        "from scipy.optimize import curve_fit\n",
        "\n",
        "beta, pcov = curve_fit(sigmoid, xdata, ydata)\n",
        "print(f\"beta1={beta[0]}\\nbeta2={beta[1]}\")"
      ],
      "metadata": {
        "id": "Rhtag7XRsFH6"
      },
      "execution_count": null,
      "outputs": []
    },
    {
      "cell_type": "code",
      "source": [
        "x = np.linspace(1960, 2015, 55)\n",
        "x = x/max(x)\n",
        "plt.figure(figsize=(8,5))\n",
        "yhat = sigmoid(x, *beta)\n",
        "plt.plot(xdata, ydata, 'ro', label='data')\n",
        "plt.plot(x,yhat, linewidth=3.0, label='fit')\n",
        "plt.legend(loc='best')\n",
        "plt.ylabel('GDP')\n",
        "plt.xlabel('Year')\n",
        "plt.show()"
      ],
      "metadata": {
        "id": "BAXpthD003EY"
      },
      "execution_count": null,
      "outputs": []
    },
    {
      "cell_type": "code",
      "source": [
        "print(\"MAE:\", mean_absolute_error(yhat,ydata))"
      ],
      "metadata": {
        "id": "IOfc0qIn03-H"
      },
      "execution_count": null,
      "outputs": []
    },
    {
      "cell_type": "code",
      "source": [],
      "metadata": {
        "id": "Urw9vrWv049K"
      },
      "execution_count": null,
      "outputs": []
    },
    {
      "cell_type": "code",
      "source": [],
      "metadata": {
        "id": "8sBrJBjjsFea"
      },
      "execution_count": null,
      "outputs": []
    }
  ]
}