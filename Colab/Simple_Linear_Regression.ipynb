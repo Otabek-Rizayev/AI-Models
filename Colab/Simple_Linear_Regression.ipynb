{
  "nbformat": 4,
  "nbformat_minor": 0,
  "metadata": {
    "colab": {
      "private_outputs": true,
      "provenance": []
    },
    "kernelspec": {
      "name": "python3",
      "display_name": "Python 3"
    },
    "language_info": {
      "name": "python"
    }
  },
  "cells": [
    {
      "cell_type": "code",
      "execution_count": null,
      "metadata": {
        "id": "pHq4ITjV2Spv"
      },
      "outputs": [],
      "source": [
        "import numpy as np\n",
        "import pandas as pd\n",
        "\n",
        "df = pd.read_csv('https://raw.githubusercontent.com/anvarnarz/praktikum_datasets/main/housing_LR.csv', index_col=0)\n",
        "df.head()"
      ]
    },
    {
      "cell_type": "markdown",
      "source": [
        "# Ustunlar ta'rifi\n",
        "- `location` - sotilayotgan uy manzili\n",
        "- `district` - uy joylashgan tuman\n",
        "- `rooms` - xonalar soni\n",
        "- `size` - uy maydoni (kv.m)\n",
        "- `level` - uy"
      ],
      "metadata": {
        "id": "n_xpTnaaBIVb"
      }
    },
    {
      "cell_type": "code",
      "source": [
        "df['district'].value_counts()"
      ],
      "metadata": {
        "id": "h0MqgRl8BfEd"
      },
      "execution_count": null,
      "outputs": []
    },
    {
      "cell_type": "code",
      "source": [
        "housing = df[df.district=='Чиланзарский']\n",
        "housing.head()"
      ],
      "metadata": {
        "id": "JZhuNwC_4NZE"
      },
      "execution_count": null,
      "outputs": []
    },
    {
      "cell_type": "code",
      "source": [
        "X = housing['size']\n",
        "y = housing['price']"
      ],
      "metadata": {
        "id": "9C2wzhFLA0AB"
      },
      "execution_count": null,
      "outputs": []
    },
    {
      "cell_type": "code",
      "source": [
        "theta1 = np.sum((X - np.mean(X)) * (y - np.mean(y))) / np.sum((X - np.mean(X)) ** 2)\n",
        "theta0 = np.mean(y) - theta1 * np.mean(X)\n",
        "print(f\"Regression Model: y={theta0:.2f}, X={theta1:.2f}\")"
      ],
      "metadata": {
        "id": "2NaquTztBzuh"
      },
      "execution_count": null,
      "outputs": []
    },
    {
      "cell_type": "code",
      "source": [
        "X_test = 20\n",
        "y_pred = theta0 + theta1 * X_test\n",
        "print(f\"Prediction(Bashorat): x={X_test}, y={y_pred:.2f}\")\n",
        "print(f\"Asl qiymat: y={X[X == X_test]}\")"
      ],
      "metadata": {
        "id": "gc5xFheYCKft"
      },
      "execution_count": null,
      "outputs": []
    }
  ]
}